{
 "cells": [
  {
   "cell_type": "markdown",
   "id": "770a737e",
   "metadata": {},
   "source": [
    "# Fraud Detection and Customer Clustering\n",
    "\n",
    "This notebook trains classifiers and performs clustering using `creditcard.csv`."
   ]
  },
  {
   "cell_type": "code",
   "execution_count": null,
   "id": "311bb3b6",
   "metadata": {},
   "outputs": [],
   "source": [
    "import pandas as pd\n",
    "\n",
    "# Load the dataset (not committed to GitHub)\n",
    "df = pd.read_csv('../data/creditcard.csv')\n",
    "df.info()\n",
    "df['Class'].value_counts(normalize=True)"
   ]
  },
  {
   "cell_type": "code",
   "execution_count": null,
   "id": "97d0f9a1",
   "metadata": {},
   "outputs": [],
   "source": [
    "from sklearn.model_selection import train_test_split\n",
    "from sklearn.preprocessing import StandardScaler\n",
    "\n",
    "X = df.drop(columns=['Class'])\n",
    "y = df['Class']\n",
    "\n",
    "scaler = StandardScaler()\n",
    "X_scaled = scaler.fit_transform(X)\n",
    "\n",
    "X_train, X_test, y_train, y_test = train_test_split(\n",
    "    X_scaled, y, test_size=0.3, stratify=y, random_state=42\n",
    ")"
   ]
  },
  {
   "cell_type": "code",
   "execution_count": null,
   "id": "536551b5",
   "metadata": {},
   "outputs": [],
   "source": [
    "from sklearn.linear_model import LogisticRegression\n",
    "from sklearn.ensemble import RandomForestClassifier\n",
    "from sklearn.metrics import classification_report\n",
    "\n",
    "lr = LogisticRegression(max_iter=1000).fit(X_train, y_train)\n",
    "rf = RandomForestClassifier(n_estimators=100).fit(X_train, y_train)\n",
    "\n",
    "print(\"Logistic Regression:\")\n",
    "print(classification_report(y_test, lr.predict(X_test)))\n",
    "\n",
    "print(\"Random Forest:\")\n",
    "print(classification_report(y_test, rf.predict(X_test)))"
   ]
  },
  {
   "cell_type": "code",
   "execution_count": null,
   "id": "e96df8e5",
   "metadata": {},
   "outputs": [],
   "source": [
    "from sklearn.metrics import confusion_matrix\n",
    "\n",
    "# Predict probabilities\n",
    "y_probs = rf.predict_proba(X_test)[:, 1]\n",
    "\n",
    "# Set a custom threshold\n",
    "threshold = 0.3\n",
    "y_pred_thresh = (y_probs > threshold).astype(int)\n",
    "\n",
    "# Show confusion matrix\n",
    "cm = confusion_matrix(y_test, y_pred_thresh)\n",
    "print(\"Confusion Matrix at threshold =\", threshold)\n",
    "print(cm)"
   ]
  },
  {
   "cell_type": "code",
   "execution_count": null,
   "id": "700523ff",
   "metadata": {},
   "outputs": [],
   "source": [
    "from sklearn.metrics import precision_recall_curve\n",
    "import matplotlib.pyplot as plt\n",
    "\n",
    "prec, rec, thresh = precision_recall_curve(y_test, y_probs)\n",
    "\n",
    "plt.plot(thresh, prec[:-1], label='Precision')\n",
    "plt.plot(thresh, rec[:-1], label='Recall')\n",
    "plt.xlabel('Threshold')\n",
    "plt.ylabel('Score')\n",
    "plt.title('Precision-Recall vs Threshold')\n",
    "plt.legend()\n",
    "plt.grid(True)\n",
    "plt.show()"
   ]
  },
  {
   "cell_type": "code",
   "execution_count": null,
   "id": "64b46c2f",
   "metadata": {},
   "outputs": [],
   "source": [
    "import mlflow\n",
    "import mlflow.sklearn\n",
    "from sklearn.metrics import precision_score, recall_score\n",
    "\n",
    "mlflow.set_experiment(\"Fraud Detection\")\n",
    "\n",
    "with mlflow.start_run():\n",
    "    mlflow.log_param(\"model\", \"RandomForest\")\n",
    "    mlflow.log_param(\"threshold\", threshold)\n",
    "\n",
    "    mlflow.log_metric(\"precision\", precision_score(y_test, y_pred_thresh))\n",
    "    mlflow.log_metric(\"recall\", recall_score(y_test, y_pred_thresh))\n",
    "\n",
    "    mlflow.sklearn.log_model(rf, \"model\")\n",
    "    print(\"Model logged in MLflow.\")"
   ]
  },
  {
   "cell_type": "code",
   "execution_count": null,
   "id": "f72115e4",
   "metadata": {},
   "outputs": [],
   "source": [
    "import shap\n",
    "\n",
    "explainer = shap.Explainer(rf, X_test)\n",
    "shap_values = explainer(X_test[:100])\n",
    "shap.plots.beeswarm(shap_values)"
   ]
  },
  {
   "cell_type": "code",
   "execution_count": null,
   "id": "123da631",
   "metadata": {},
   "outputs": [],
   "source": [
    "from sklearn.cluster import KMeans\n",
    "from sklearn.metrics import silhouette_score\n",
    "\n",
    "kmeans = KMeans(n_clusters=3, random_state=42).fit(X_scaled)\n",
    "labels = kmeans.labels_\n",
    "print(\"Silhouette Score:\", silhouette_score(X_scaled, labels))"
   ]
  },
  {
   "cell_type": "code",
   "execution_count": null,
   "id": "20a20173",
   "metadata": {},
   "outputs": [],
   "source": [
    "import joblib\n",
    "joblib.dump(rf, '../models/fraud_model.pkl')"
   ]
  }
 ],
 "metadata": {},
 "nbformat": 4,
 "nbformat_minor": 5
}
